{
  "nbformat": 4,
  "nbformat_minor": 0,
  "metadata": {
    "colab": {
      "name": "facial-recog-2.ipynb",
      "provenance": [],
      "collapsed_sections": []
    },
    "kernelspec": {
      "name": "python3",
      "display_name": "Python 3"
    },
    "language_info": {
      "name": "python"
    }
  },
  "cells": [
    {
      "cell_type": "code",
      "metadata": {
        "id": "9Ar_vRBfPdRV"
      },
      "source": [
        "from IPython.display import display, Javascript\n",
        "from google.colab.output import eval_js\n",
        "from base64 import b64decode\n",
        "\n",
        "def take_photo(filename='photo.jpg', quality=0.8):\n",
        "  js = Javascript('''\n",
        "    async function takePhoto(quality) {\n",
        "      const div = document.createElement('div');\n",
        "      const capture = document.createElement('button');\n",
        "      capture.textContent = 'Capture';\n",
        "      div.appendChild(capture);\n",
        "\n",
        "      const video = document.createElement('video');\n",
        "      video.style.display = 'block';\n",
        "      const stream = await navigator.mediaDevices.getUserMedia({video: true});\n",
        "\n",
        "      document.body.appendChild(div);\n",
        "      div.appendChild(video);\n",
        "      video.srcObject = stream;\n",
        "      await video.play();\n",
        "\n",
        "      // Resize the output to fit the video element.\n",
        "      google.colab.output.setIframeHeight(document.documentElement.scrollHeight, true);\n",
        "\n",
        "      // Wait for Capture to be clicked.\n",
        "      await new Promise((resolve) => capture.onclick = resolve);\n",
        "\n",
        "      const canvas = document.createElement('canvas');\n",
        "      canvas.width = video.videoWidth;\n",
        "      canvas.height = video.videoHeight;\n",
        "      canvas.getContext('2d').drawImage(video, 0, 0);\n",
        "      stream.getVideoTracks()[0].stop();\n",
        "      div.remove();\n",
        "      return canvas.toDataURL('image/jpeg', quality);\n",
        "    }\n",
        "    ''')\n",
        "  display(js)\n",
        "  data = eval_js('takePhoto({})'.format(quality))\n",
        "  binary = b64decode(data.split(',')[1])\n",
        "  with open(filename, 'wb') as f:\n",
        "    f.write(binary)\n",
        "  return filename"
      ],
      "execution_count": 1,
      "outputs": []
    },
    {
      "cell_type": "code",
      "metadata": {
        "id": "zYBjcnDyUQsK",
        "colab": {
          "base_uri": "https://localhost:8080/",
          "height": 514
        },
        "outputId": "54db2778-940b-460c-da76-e55ad754610d"
      },
      "source": [
        "from IPython.display import Image\n",
        "try:\n",
        "  filename = take_photo()\n",
        "  print('Saved to {}'.format(filename))\n",
        "  \n",
        "  # Show the image which was just taken.\n",
        "  display(Image(filename))\n",
        "except Exception as err:\n",
        "  # Errors will be thrown if the user does not have a webcam or if they do not\n",
        "  # grant the page permission to access it.\n",
        "  print(str(err))"
      ],
      "execution_count": 2,
      "outputs": [
        {
          "output_type": "display_data",
          "data": {
            "application/javascript": [
              "\n",
              "    async function takePhoto(quality) {\n",
              "      const div = document.createElement('div');\n",
              "      const capture = document.createElement('button');\n",
              "      capture.textContent = 'Capture';\n",
              "      div.appendChild(capture);\n",
              "\n",
              "      const video = document.createElement('video');\n",
              "      video.style.display = 'block';\n",
              "      const stream = await navigator.mediaDevices.getUserMedia({video: true});\n",
              "\n",
              "      document.body.appendChild(div);\n",
              "      div.appendChild(video);\n",
              "      video.srcObject = stream;\n",
              "      await video.play();\n",
              "\n",
              "      // Resize the output to fit the video element.\n",
              "      google.colab.output.setIframeHeight(document.documentElement.scrollHeight, true);\n",
              "\n",
              "      // Wait for Capture to be clicked.\n",
              "      await new Promise((resolve) => capture.onclick = resolve);\n",
              "\n",
              "      const canvas = document.createElement('canvas');\n",
              "      canvas.width = video.videoWidth;\n",
              "      canvas.height = video.videoHeight;\n",
              "      canvas.getContext('2d').drawImage(video, 0, 0);\n",
              "      stream.getVideoTracks()[0].stop();\n",
              "      div.remove();\n",
              "      return canvas.toDataURL('image/jpeg', quality);\n",
              "    }\n",
              "    "
            ],
            "text/plain": [
              "<IPython.core.display.Javascript object>"
            ]
          },
          "metadata": {}
        },
        {
          "output_type": "stream",
          "name": "stdout",
          "text": [
            "Saved to photo.jpg\n"
          ]
        },
        {
          "output_type": "display_data",
          "data": {
            "image/jpeg": "[encoded data removed]",
            "text/plain": [
              "<IPython.core.display.Image object>"
            ]
          },
          "metadata": {}
        }
      ]
    },
    {
      "cell_type": "code",
      "metadata": {
        "colab": {
          "base_uri": "https://localhost:8080/"
        },
        "id": "SQiL5IzqWA6B",
        "outputId": "c76f6974-39b9-4b2f-c575-06b093419d2b"
      },
      "source": [
        "!pip install mtcnn"
      ],
      "execution_count": 3,
      "outputs": [
        {
          "output_type": "stream",
          "name": "stdout",
          "text": [
            "Collecting mtcnn\n",
            "  Downloading mtcnn-0.1.1-py3-none-any.whl (2.3 MB)\n",
            "\u001b[K     |████████████████████████████████| 2.3 MB 5.2 MB/s \n",
            "\u001b[?25hRequirement already satisfied: keras>=2.0.0 in /usr/local/lib/python3.7/dist-packages (from mtcnn) (2.7.0)\n",
            "Requirement already satisfied: opencv-python>=4.1.0 in /usr/local/lib/python3.7/dist-packages (from mtcnn) (4.1.2.30)\n",
            "Requirement already satisfied: numpy>=1.14.5 in /usr/local/lib/python3.7/dist-packages (from opencv-python>=4.1.0->mtcnn) (1.19.5)\n",
            "Installing collected packages: mtcnn\n",
            "Successfully installed mtcnn-0.1.1\n"
          ]
        }
      ]
    },
    {
      "cell_type": "code",
      "metadata": {
        "id": "Lz8QhX-xWRk9"
      },
      "source": [
        "import mtcnn"
      ],
      "execution_count": 4,
      "outputs": []
    },
    {
      "cell_type": "code",
      "metadata": {
        "id": "pcT5WyyZWWHf"
      },
      "source": [
        "from PIL import Image\n",
        "from numpy import asarray\n",
        "from mtcnn.mtcnn import MTCNN"
      ],
      "execution_count": 5,
      "outputs": []
    },
    {
      "cell_type": "code",
      "metadata": {
        "id": "apHrtvliWe_d"
      },
      "source": [
        "def extract_face(filename, required_size=(160, 160)):\n",
        "\timage = Image.open(filename)\n",
        "\timage = image.convert('RGB')\n",
        "\tpixels = asarray(image)\n",
        "\tdetector = MTCNN()\n",
        "\tresults = detector.detect_faces(pixels)\n",
        "\tx1, y1, width, height = results[0]['box']\n",
        "\tx1, y1 = abs(x1), abs(y1)\n",
        "\tx2, y2 = x1 + width, y1 + height\n",
        "\tface = pixels[y1:y2, x1:x2]\n",
        "\timage = Image.fromarray(face)\n",
        "\timage = image.resize(required_size)\n",
        "\tface_array = asarray(image)\n",
        "\treturn face_array"
      ],
      "execution_count": 6,
      "outputs": []
    },
    {
      "cell_type": "code",
      "metadata": {
        "id": "9bRIHQALWk-V"
      },
      "source": [
        "img=extract_face('photo.jpg')"
      ],
      "execution_count": 7,
      "outputs": []
    },
    {
      "cell_type": "code",
      "metadata": {
        "id": "eo58e3fgaQWx"
      },
      "source": [
        "import pandas as pd\n",
        "import numpy as np\n",
        "import tensorflow as tf"
      ],
      "execution_count": 8,
      "outputs": []
    },
    {
      "cell_type": "code",
      "metadata": {
        "colab": {
          "base_uri": "https://localhost:8080/"
        },
        "id": "o3prbHVxaWHU",
        "outputId": "00c65c42-ba88-4a5d-c255-9e51f5f02635"
      },
      "source": [
        "from google.colab import drive\n",
        "drive.mount('/content/gdrive')"
      ],
      "execution_count": 9,
      "outputs": [
        {
          "output_type": "stream",
          "name": "stdout",
          "text": [
            "Mounted at /content/gdrive\n"
          ]
        }
      ]
    },
    {
      "cell_type": "code",
      "metadata": {
        "id": "gmpPC4Nla3d6"
      },
      "source": [
        "import glob\n",
        "dataset_images=glob.glob(\"gdrive/My Drive/facial_recog/dataset/*.jpg\")"
      ],
      "execution_count": 10,
      "outputs": []
    },
    {
      "cell_type": "code",
      "metadata": {
        "colab": {
          "base_uri": "https://localhost:8080/"
        },
        "id": "v5UDwExZgBk8",
        "outputId": "a448a24c-8733-4a9c-cd8b-c4211e8c9de5"
      },
      "source": [
        "dataset_images"
      ],
      "execution_count": 11,
      "outputs": [
        {
          "output_type": "execute_result",
          "data": {
            "text/plain": [
              "['gdrive/My Drive/facial_recog/dataset/ravi.jpg',\n",
              " 'gdrive/My Drive/facial_recog/dataset/ashish.jpg',\n",
              " 'gdrive/My Drive/facial_recog/dataset/vikas.jpg',\n",
              " 'gdrive/My Drive/facial_recog/dataset/utkarsh.jpg',\n",
              " 'gdrive/My Drive/facial_recog/dataset/anish.jpg',\n",
              " 'gdrive/My Drive/facial_recog/dataset/devansh.jpg',\n",
              " 'gdrive/My Drive/facial_recog/dataset/gurjot.jpg',\n",
              " 'gdrive/My Drive/facial_recog/dataset/sarthak.jpg',\n",
              " 'gdrive/My Drive/facial_recog/dataset/aashish.jpg',\n",
              " 'gdrive/My Drive/facial_recog/dataset/jayant.jpg',\n",
              " 'gdrive/My Drive/facial_recog/dataset/ayushi.jpg',\n",
              " 'gdrive/My Drive/facial_recog/dataset/geeta.jpg',\n",
              " 'gdrive/My Drive/facial_recog/dataset/virendra.jpg',\n",
              " 'gdrive/My Drive/facial_recog/dataset/darsh.jpg',\n",
              " 'gdrive/My Drive/facial_recog/dataset/akanksha.jpg',\n",
              " 'gdrive/My Drive/facial_recog/dataset/prof_karm_veer_arya.jpg',\n",
              " 'gdrive/My Drive/facial_recog/dataset/priyesh.jpg',\n",
              " 'gdrive/My Drive/facial_recog/dataset/samyak.jpg',\n",
              " 'gdrive/My Drive/facial_recog/dataset/aryan.jpg',\n",
              " 'gdrive/My Drive/facial_recog/dataset/mridul.jpg',\n",
              " 'gdrive/My Drive/facial_recog/dataset/kushagra.jpg',\n",
              " 'gdrive/My Drive/facial_recog/dataset/nikhil.jpg',\n",
              " 'gdrive/My Drive/facial_recog/dataset/shubhi.jpg',\n",
              " 'gdrive/My Drive/facial_recog/dataset/ishita.jpg',\n",
              " 'gdrive/My Drive/facial_recog/dataset/arjun.jpg']"
            ]
          },
          "metadata": {},
          "execution_count": 11
        }
      ]
    },
    {
      "cell_type": "code",
      "metadata": {
        "id": "kZ-m2RZzvqfE"
      },
      "source": [
        "count=0"
      ],
      "execution_count": 12,
      "outputs": []
    },
    {
      "cell_type": "code",
      "metadata": {
        "id": "u7gSy-oSgJl-"
      },
      "source": [
        "labels=[]\n",
        "for i in dataset_images:\n",
        "  count=count+1\n",
        "  i=i.replace('gdrive/My Drive/facial_recog/dataset/','')\n",
        "  i=i.replace('.jpg','')\n",
        "  labels.append(i)"
      ],
      "execution_count": 13,
      "outputs": []
    },
    {
      "cell_type": "code",
      "metadata": {
        "id": "HA59dC1ehmNm",
        "colab": {
          "base_uri": "https://localhost:8080/"
        },
        "outputId": "ad986828-f06f-4947-f25c-f7524cdd88fb"
      },
      "source": [
        "image_embeddings=[]\n",
        "for i in range(count):\n",
        "  image_embeddings.append(extract_face(dataset_images[i]))"
      ],
      "execution_count": 14,
      "outputs": [
        {
          "output_type": "stream",
          "name": "stdout",
          "text": [
            "WARNING:tensorflow:5 out of the last 13 calls to <function Model.make_predict_function.<locals>.predict_function at 0x7fd226e85a70> triggered tf.function retracing. Tracing is expensive and the excessive number of tracings could be due to (1) creating @tf.function repeatedly in a loop, (2) passing tensors with different shapes, (3) passing Python objects instead of tensors. For (1), please define your @tf.function outside of the loop. For (2), @tf.function has experimental_relax_shapes=True option that relaxes argument shapes that can avoid unnecessary retracing. For (3), please refer to https://www.tensorflow.org/guide/function#controlling_retracing and https://www.tensorflow.org/api_docs/python/tf/function for  more details.\n",
            "WARNING:tensorflow:6 out of the last 14 calls to <function Model.make_predict_function.<locals>.predict_function at 0x7fd226e85a70> triggered tf.function retracing. Tracing is expensive and the excessive number of tracings could be due to (1) creating @tf.function repeatedly in a loop, (2) passing tensors with different shapes, (3) passing Python objects instead of tensors. For (1), please define your @tf.function outside of the loop. For (2), @tf.function has experimental_relax_shapes=True option that relaxes argument shapes that can avoid unnecessary retracing. For (3), please refer to https://www.tensorflow.org/guide/function#controlling_retracing and https://www.tensorflow.org/api_docs/python/tf/function for  more details.\n"
          ]
        }
      ]
    },
    {
      "cell_type": "code",
      "metadata": {
        "id": "oh2NKxf0iQoB"
      },
      "source": [
        "image_embeddings=np.array(image_embeddings)"
      ],
      "execution_count": 15,
      "outputs": []
    },
    {
      "cell_type": "code",
      "metadata": {
        "id": "-NTDCYRSiiqY"
      },
      "source": [
        "def normalize(trainX):\n",
        "  trainX=trainX.astype('float32')\n",
        "  for i in range (trainX.shape[0]):\n",
        "    mean=trainX[i].mean()\n",
        "    std=trainX[i].std()\n",
        "    trainX[i]=(trainX[i]-mean)/std\n",
        "  return trainX"
      ],
      "execution_count": 16,
      "outputs": []
    },
    {
      "cell_type": "code",
      "metadata": {
        "id": "VOyi4G9qitti"
      },
      "source": [
        "image_embeddings=normalize(image_embeddings)"
      ],
      "execution_count": 17,
      "outputs": []
    },
    {
      "cell_type": "code",
      "metadata": {
        "colab": {
          "base_uri": "https://localhost:8080/"
        },
        "id": "yVjmo2MkizXX",
        "outputId": "a38fdd94-e414-4196-d745-9b7da4e39b5c"
      },
      "source": [
        "from keras.models import load_model\n",
        "deep_network = load_model('gdrive/My Drive/facial_recog/facenet_keras.h5')"
      ],
      "execution_count": 18,
      "outputs": [
        {
          "output_type": "stream",
          "name": "stdout",
          "text": [
            "WARNING:tensorflow:No training configuration found in the save file, so the model was *not* compiled. Compile it manually.\n"
          ]
        }
      ]
    },
    {
      "cell_type": "code",
      "metadata": {
        "id": "42UxTZ_SjG4A"
      },
      "source": [
        "def getEmbd(trainX):\n",
        "  embd=deep_network.predict(trainX)\n",
        "  return embd"
      ],
      "execution_count": 19,
      "outputs": []
    },
    {
      "cell_type": "code",
      "metadata": {
        "id": "yubYYJF_jZMn"
      },
      "source": [
        "image_embeddings=getEmbd(image_embeddings)"
      ],
      "execution_count": 20,
      "outputs": []
    },
    {
      "cell_type": "code",
      "metadata": {
        "colab": {
          "base_uri": "https://localhost:8080/"
        },
        "id": "cAV9uEpaMUyO",
        "outputId": "2f245ce3-e0c2-4730-89df-a8281220abe8"
      },
      "source": [
        "image_embeddings"
      ],
      "execution_count": 21,
      "outputs": [
        {
          "output_type": "execute_result",
          "data": {
            "text/plain": [
              "array([[ 0.2281784 , -1.3742216 ,  1.8296683 , ...,  0.1464827 ,\n",
              "         0.4257652 , -0.34801587],\n",
              "       [ 0.13735294, -0.36318251, -0.19930181, ...,  0.6317376 ,\n",
              "         1.2627165 , -0.38628322],\n",
              "       [ 0.6077678 , -0.7600857 , -0.40012702, ..., -0.8302989 ,\n",
              "        -0.6323287 ,  0.07325241],\n",
              "       ...,\n",
              "       [-0.2952331 , -0.42186293, -0.10613532, ...,  1.4282302 ,\n",
              "         0.9623217 , -1.0340763 ],\n",
              "       [-1.1469024 ,  0.88126326, -1.9654095 , ...,  0.25590053,\n",
              "         0.27171457, -1.3218688 ],\n",
              "       [ 0.74574995, -0.66988933,  0.1343236 , ...,  0.25710455,\n",
              "        -1.2889695 ,  1.3194401 ]], dtype=float32)"
            ]
          },
          "metadata": {},
          "execution_count": 21
        }
      ]
    },
    {
      "cell_type": "code",
      "metadata": {
        "id": "4Dso6k9TM0gJ"
      },
      "source": [
        "np.save('gdrive/My Drive/facial_recog/img_embd.npy',image_embeddings)"
      ],
      "execution_count": 22,
      "outputs": []
    },
    {
      "cell_type": "code",
      "metadata": {
        "id": "pRSltgBlkiTl"
      },
      "source": [
        "img=img.astype('float32')\n",
        "mean=img.mean()\n",
        "std=img.std()\n",
        "img=(img-mean)/std"
      ],
      "execution_count": 23,
      "outputs": []
    },
    {
      "cell_type": "code",
      "metadata": {
        "colab": {
          "base_uri": "https://localhost:8080/"
        },
        "id": "82qOhzrWKr9r",
        "outputId": "57f5440f-57bb-4d60-d444-f69525eb9663"
      },
      "source": [
        "img.shape"
      ],
      "execution_count": 24,
      "outputs": [
        {
          "output_type": "execute_result",
          "data": {
            "text/plain": [
              "(160, 160, 3)"
            ]
          },
          "metadata": {},
          "execution_count": 24
        }
      ]
    },
    {
      "cell_type": "code",
      "metadata": {
        "id": "BA3ODZgqqSUx"
      },
      "source": [
        "img_help=tf.expand_dims(img,axis=0)"
      ],
      "execution_count": 25,
      "outputs": []
    },
    {
      "cell_type": "code",
      "metadata": {
        "id": "vqbCAFx_q3Lp"
      },
      "source": [
        "img_embd=getEmbd(img_help)"
      ],
      "execution_count": 26,
      "outputs": []
    },
    {
      "cell_type": "code",
      "metadata": {
        "colab": {
          "base_uri": "https://localhost:8080/"
        },
        "id": "YV0BYjLPrEQq",
        "outputId": "2cbdd8c6-97d1-47cb-9a9e-2cdfcb27701e"
      },
      "source": [
        "img_embd.shape"
      ],
      "execution_count": 27,
      "outputs": [
        {
          "output_type": "execute_result",
          "data": {
            "text/plain": [
              "(1, 128)"
            ]
          },
          "metadata": {},
          "execution_count": 27
        }
      ]
    },
    {
      "cell_type": "code",
      "metadata": {
        "id": "YAhmCmoUrN9l"
      },
      "source": [
        "from keras.models import load_model\n",
        "classifier = load_model('gdrive/My Drive/facial_recog/logisticClassifier.h5')"
      ],
      "execution_count": 28,
      "outputs": []
    },
    {
      "cell_type": "code",
      "metadata": {
        "colab": {
          "base_uri": "https://localhost:8080/"
        },
        "id": "JfXdTJI7r5AZ",
        "outputId": "8560aec3-3097-47f3-923d-ec0c4dac99a4"
      },
      "source": [
        "print(classifier.inputs)\n",
        "print(classifier.outputs)"
      ],
      "execution_count": 29,
      "outputs": [
        {
          "output_type": "stream",
          "name": "stdout",
          "text": [
            "[<KerasTensor: shape=(None, 128) dtype=float32 (created by layer 'dense_67200_input')>]\n",
            "[<KerasTensor: shape=(None, 1) dtype=float32 (created by layer 'dense_67200')>]\n"
          ]
        }
      ]
    },
    {
      "cell_type": "code",
      "metadata": {
        "id": "Whwu53eVsaWa"
      },
      "source": [
        "img_embd2=[]\n",
        "for i in range(count):\n",
        "  img_embd2.append(img_embd[0])"
      ],
      "execution_count": 30,
      "outputs": []
    },
    {
      "cell_type": "code",
      "metadata": {
        "id": "U54dIpifs0ry"
      },
      "source": [
        "img_embd2=np.array(img_embd2)"
      ],
      "execution_count": 31,
      "outputs": []
    },
    {
      "cell_type": "code",
      "metadata": {
        "colab": {
          "base_uri": "https://localhost:8080/"
        },
        "id": "wdy68U9gs_gE",
        "outputId": "78329384-f6eb-40b3-86f6-790c8a468e27"
      },
      "source": [
        "img_embd2.shape"
      ],
      "execution_count": 32,
      "outputs": [
        {
          "output_type": "execute_result",
          "data": {
            "text/plain": [
              "(25, 128)"
            ]
          },
          "metadata": {},
          "execution_count": 32
        }
      ]
    },
    {
      "cell_type": "code",
      "metadata": {
        "colab": {
          "base_uri": "https://localhost:8080/"
        },
        "id": "Y1r53X35LnMC",
        "outputId": "cec9f403-e4d8-4eb9-81d8-0b68b00890b3"
      },
      "source": [
        "image_embeddings.shape"
      ],
      "execution_count": 33,
      "outputs": [
        {
          "output_type": "execute_result",
          "data": {
            "text/plain": [
              "(25, 128)"
            ]
          },
          "metadata": {},
          "execution_count": 33
        }
      ]
    },
    {
      "cell_type": "code",
      "metadata": {
        "id": "uthwOLmgtLeb"
      },
      "source": [
        "finalEmbd=img_embd2-image_embeddings\n",
        "for i in range(count):\n",
        "  for j in range(128):\n",
        "    if (finalEmbd[i][j]<0):finalEmbd[i][j]=finalEmbd[i][j]*(-1)"
      ],
      "execution_count": 34,
      "outputs": []
    },
    {
      "cell_type": "code",
      "metadata": {
        "id": "5xSgrMdYtlbk"
      },
      "source": [
        "outputs=classifier.predict(finalEmbd)"
      ],
      "execution_count": 35,
      "outputs": []
    },
    {
      "cell_type": "code",
      "metadata": {
        "colab": {
          "base_uri": "https://localhost:8080/"
        },
        "id": "bB75Tmndt2Ut",
        "outputId": "c6d44666-7068-43af-9919-bb2e2c996b4d"
      },
      "source": [
        "outputs"
      ],
      "execution_count": 36,
      "outputs": [
        {
          "output_type": "execute_result",
          "data": {
            "text/plain": [
              "array([[0.5359308 ],\n",
              "       [0.8602276 ],\n",
              "       [0.4070026 ],\n",
              "       [0.3370405 ],\n",
              "       [0.67564267],\n",
              "       [0.7536813 ],\n",
              "       [0.42030925],\n",
              "       [0.32215208],\n",
              "       [0.63772047],\n",
              "       [0.46373618],\n",
              "       [0.2222459 ],\n",
              "       [0.21015593],\n",
              "       [0.05339423],\n",
              "       [0.7305908 ],\n",
              "       [0.21801645],\n",
              "       [0.14448759],\n",
              "       [0.35012904],\n",
              "       [0.8054527 ],\n",
              "       [0.02889144],\n",
              "       [0.274813  ],\n",
              "       [0.085336  ],\n",
              "       [0.6176175 ],\n",
              "       [0.5045301 ],\n",
              "       [0.30176693],\n",
              "       [0.5318781 ]], dtype=float32)"
            ]
          },
          "metadata": {},
          "execution_count": 36
        }
      ]
    },
    {
      "cell_type": "code",
      "metadata": {
        "id": "-6XXtErht-kg"
      },
      "source": [
        "ans=0\n",
        "for i in range (1,count):\n",
        "  if(outputs[i]>outputs[ans]):\n",
        "    ans=i"
      ],
      "execution_count": 37,
      "outputs": []
    },
    {
      "cell_type": "code",
      "metadata": {
        "colab": {
          "base_uri": "https://localhost:8080/"
        },
        "id": "Z-5PGuIluRyx",
        "outputId": "618db7ee-8c2c-48dc-e5f6-6783704d9530"
      },
      "source": [
        "if(outputs[ans]<0.5):\n",
        "  print(\"none\")\n",
        "else:\n",
        "  print(labels[ans])"
      ],
      "execution_count": 38,
      "outputs": [
        {
          "output_type": "stream",
          "name": "stdout",
          "text": [
            "ashish\n"
          ]
        }
      ]
    },
    {
      "cell_type": "code",
      "metadata": {
        "colab": {
          "base_uri": "https://localhost:8080/"
        },
        "id": "FIPldaZFylO9",
        "outputId": "68ca832c-4ffb-43b4-ac30-a60f54100ab8"
      },
      "source": [
        "print(outputs[ans])"
      ],
      "execution_count": 39,
      "outputs": [
        {
          "output_type": "stream",
          "name": "stdout",
          "text": [
            "[0.8602276]\n"
          ]
        }
      ]
    }
  ]
}