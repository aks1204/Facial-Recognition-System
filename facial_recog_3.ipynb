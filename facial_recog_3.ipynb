{
  "nbformat": 4,
  "nbformat_minor": 0,
  "metadata": {
    "colab": {
      "name": "facial-recog-3.ipynb",
      "provenance": [],
      "collapsed_sections": []
    },
    "kernelspec": {
      "name": "python3",
      "display_name": "Python 3"
    },
    "language_info": {
      "name": "python"
    }
  },
  "cells": [
    {
      "cell_type": "code",
      "metadata": {
        "colab": {
          "base_uri": "https://localhost:8080/"
        },
        "id": "ChwSGT5Jdmtv",
        "outputId": "2bd64f2c-b7a3-477b-a15b-7c8a1fdd8ad2"
      },
      "source": [
        "from google.colab import drive\n",
        "drive.mount('/content/gdrive')"
      ],
      "execution_count": 1,
      "outputs": [
        {
          "output_type": "stream",
          "name": "stdout",
          "text": [
            "Mounted at /content/gdrive\n"
          ]
        }
      ]
    },
    {
      "cell_type": "code",
      "metadata": {
        "colab": {
          "base_uri": "https://localhost:8080/"
        },
        "id": "4nBPk4vjmrJc",
        "outputId": "2b5483d0-9eb2-4215-ce6b-941b51759705"
      },
      "source": [
        "!pip install mtcnn"
      ],
      "execution_count": 2,
      "outputs": [
        {
          "output_type": "stream",
          "name": "stdout",
          "text": [
            "Collecting mtcnn\n",
            "  Downloading mtcnn-0.1.1-py3-none-any.whl (2.3 MB)\n",
            "\u001b[K     |████████████████████████████████| 2.3 MB 5.0 MB/s \n",
            "\u001b[?25hRequirement already satisfied: keras>=2.0.0 in /usr/local/lib/python3.7/dist-packages (from mtcnn) (2.7.0)\n",
            "Requirement already satisfied: opencv-python>=4.1.0 in /usr/local/lib/python3.7/dist-packages (from mtcnn) (4.1.2.30)\n",
            "Requirement already satisfied: numpy>=1.14.5 in /usr/local/lib/python3.7/dist-packages (from opencv-python>=4.1.0->mtcnn) (1.19.5)\n",
            "Installing collected packages: mtcnn\n",
            "Successfully installed mtcnn-0.1.1\n"
          ]
        }
      ]
    },
    {
      "cell_type": "code",
      "metadata": {
        "id": "Gt8sRk3clSfQ"
      },
      "source": [
        "import mtcnn\n",
        "import glob\n",
        "from numpy import asarray\n",
        "from PIL import Image\n",
        "from mtcnn.mtcnn import MTCNN\n",
        "from keras.models import load_model\n",
        "import pandas as pd\n",
        "import numpy as np\n",
        "import tensorflow as tf\n",
        "from IPython.display import display, Javascript\n",
        "from google.colab.output import eval_js\n",
        "from base64 import b64decode"
      ],
      "execution_count": 3,
      "outputs": []
    },
    {
      "cell_type": "code",
      "metadata": {
        "colab": {
          "base_uri": "https://localhost:8080/"
        },
        "id": "u1Bnqy_HdCy9",
        "outputId": "537ce546-3484-4353-ace9-1fb712cb22e7"
      },
      "source": [
        "dataset_images=glob.glob(\"gdrive/My Drive/facial_recog/dataset/*.jpg\")\n",
        "count=0\n",
        "labels=[]\n",
        "for i in dataset_images:\n",
        "  count=count+1\n",
        "  i=i.replace('gdrive/My Drive/facial_recog/dataset/','')\n",
        "  i=i.replace('.jpg','')\n",
        "  labels.append(i)\n",
        "image_embeddings=np.load('gdrive/My Drive/facial_recog/img_embd.npy')\n",
        "deep_network = load_model('gdrive/My Drive/facial_recog/facenet_keras.h5')\n",
        "classifier = load_model('gdrive/My Drive/facial_recog/logisticClassifier.h5')\n",
        "def getEmbd(trainX):\n",
        "  embd=deep_network.predict(trainX)\n",
        "  return embd\n",
        "def take_photo(filename='photo.jpg', quality=0.8):\n",
        "  js = Javascript('''\n",
        "    async function takePhoto(quality) {\n",
        "      const div = document.createElement('div');\n",
        "      const capture = document.createElement('button');\n",
        "      capture.textContent = 'Capture';\n",
        "      div.appendChild(capture);\n",
        "\n",
        "      const video = document.createElement('video');\n",
        "      video.style.display = 'block';\n",
        "      const stream = await navigator.mediaDevices.getUserMedia({video: true});\n",
        "\n",
        "      document.body.appendChild(div);\n",
        "      div.appendChild(video);\n",
        "      video.srcObject = stream;\n",
        "      await video.play();\n",
        "\n",
        "      // Resize the output to fit the video element.\n",
        "      google.colab.output.setIframeHeight(document.documentElement.scrollHeight, true);\n",
        "\n",
        "      // Wait for Capture to be clicked.\n",
        "      await new Promise((resolve) => capture.onclick = resolve);\n",
        "\n",
        "      const canvas = document.createElement('canvas');\n",
        "      canvas.width = video.videoWidth;\n",
        "      canvas.height = video.videoHeight;\n",
        "      canvas.getContext('2d').drawImage(video, 0, 0);\n",
        "      stream.getVideoTracks()[0].stop();\n",
        "      div.remove();\n",
        "      return canvas.toDataURL('image/jpeg', quality);\n",
        "    }\n",
        "    ''')\n",
        "  display(js)\n",
        "  data = eval_js('takePhoto({})'.format(quality))\n",
        "  binary = b64decode(data.split(',')[1])\n",
        "  with open(filename, 'wb') as f:\n",
        "    f.write(binary)\n",
        "  return filename"
      ],
      "execution_count": 4,
      "outputs": [
        {
          "output_type": "stream",
          "name": "stdout",
          "text": [
            "WARNING:tensorflow:No training configuration found in the save file, so the model was *not* compiled. Compile it manually.\n"
          ]
        }
      ]
    },
    {
      "cell_type": "markdown",
      "metadata": {
        "id": "G_Rr9JAL5VN7"
      },
      "source": [
        "# **RUNTIME**"
      ]
    },
    {
      "cell_type": "code",
      "metadata": {
        "colab": {
          "base_uri": "https://localhost:8080/",
          "height": 514
        },
        "id": "nP9iB4RIc7vI",
        "outputId": "6dd159d9-0e3d-460c-d2b8-75995facb766"
      },
      "source": [
        "#@title\n",
        "from IPython.display import Image\n",
        "try:\n",
        "  filename = take_photo()\n",
        "  print('Saved to {}'.format(filename))\n",
        "  \n",
        "  # Show the image which was just taken.\n",
        "  display(Image(filename))\n",
        "except Exception as err:\n",
        "  # Errors will be thrown if the user does not have a webcam or if they do not\n",
        "  # grant the page permission to access it.\n",
        "  print(str(err))"
      ],
      "execution_count": 9,
      "outputs": [
        {
          "output_type": "display_data",
          "data": {
            "application/javascript": [
              "\n",
              "    async function takePhoto(quality) {\n",
              "      const div = document.createElement('div');\n",
              "      const capture = document.createElement('button');\n",
              "      capture.textContent = 'Capture';\n",
              "      div.appendChild(capture);\n",
              "\n",
              "      const video = document.createElement('video');\n",
              "      video.style.display = 'block';\n",
              "      const stream = await navigator.mediaDevices.getUserMedia({video: true});\n",
              "\n",
              "      document.body.appendChild(div);\n",
              "      div.appendChild(video);\n",
              "      video.srcObject = stream;\n",
              "      await video.play();\n",
              "\n",
              "      // Resize the output to fit the video element.\n",
              "      google.colab.output.setIframeHeight(document.documentElement.scrollHeight, true);\n",
              "\n",
              "      // Wait for Capture to be clicked.\n",
              "      await new Promise((resolve) => capture.onclick = resolve);\n",
              "\n",
              "      const canvas = document.createElement('canvas');\n",
              "      canvas.width = video.videoWidth;\n",
              "      canvas.height = video.videoHeight;\n",
              "      canvas.getContext('2d').drawImage(video, 0, 0);\n",
              "      stream.getVideoTracks()[0].stop();\n",
              "      div.remove();\n",
              "      return canvas.toDataURL('image/jpeg', quality);\n",
              "    }\n",
              "    "
            ],
            "text/plain": [
              "<IPython.core.display.Javascript object>"
            ]
          },
          "metadata": {}
        },
        {
          "output_type": "stream",
          "name": "stdout",
          "text": [
            "Saved to photo.jpg\n"
          ]
        },
        {
          "output_type": "display_data",
          "data": {
            "image/jpeg": "[encoded data removed]",
            "text/plain": [
              "<IPython.core.display.Image object>"
            ]
          },
          "metadata": {}
        }
      ]
    },
    {
      "cell_type": "code",
      "source": [
        "from PIL import Image\n",
        "def extract_face(filename, required_size=(160, 160)):\n",
        "\timage = Image.open(filename)\n",
        "\timage = image.convert('RGB')\n",
        "\tpixels = asarray(image)\n",
        "\tdetector = MTCNN()\n",
        "\tresults = detector.detect_faces(pixels)\n",
        "\tx1, y1, width, height = results[0]['box']\n",
        "\tx1, y1 = abs(x1), abs(y1)\n",
        "\tx2, y2 = x1 + width, y1 + height\n",
        "\tface = pixels[y1:y2, x1:x2]\n",
        "\timage = Image.fromarray(face)\n",
        "\timage = image.resize(required_size)\n",
        "\tface_array = asarray(image)\n",
        "\treturn face_array\n",
        "img=extract_face('photo.jpg')"
      ],
      "metadata": {
        "id": "sLY7OrO8WBEz"
      },
      "execution_count": 10,
      "outputs": []
    },
    {
      "cell_type": "code",
      "metadata": {
        "id": "S2itB0nDdP0Z"
      },
      "source": [
        "#@title\n",
        "from PIL import Image\n",
        "def extract_face(filename, required_size=(160, 160)):\n",
        "\timage = Image.open(filename)\n",
        "\timage = image.convert('RGB')\n",
        "\tpixels = asarray(image)\n",
        "\tdetector = MTCNN()\n",
        "\tresults = detector.detect_faces(pixels)\n",
        "\tx1, y1, width, height = results[0]['box']\n",
        "\tx1, y1 = abs(x1), abs(y1)\n",
        "\tx2, y2 = x1 + width, y1 + height\n",
        "\tface = pixels[y1:y2, x1:x2]\n",
        "\timage = Image.fromarray(face)\n",
        "\timage = image.resize(required_size)\n",
        "\tface_array = asarray(image)\n",
        "\treturn face_array\n",
        "img=extract_face('photo.jpg')\n",
        "img=img.astype('float32')\n",
        "mean=img.mean()\n",
        "std=img.std()\n",
        "img=(img-mean)/std\n",
        "img_help=tf.expand_dims(img,axis=0)\n",
        "img_embd=getEmbd(img_help)\n",
        "img_embd2=[]\n",
        "for i in range(count):\n",
        "  img_embd2.append(img_embd[0])\n",
        "img_embd2=np.array(img_embd2)\n",
        "finalEmbd=img_embd2-image_embeddings\n",
        "for i in range(count):\n",
        "  for j in range(128):\n",
        "    if (finalEmbd[i][j]<0):finalEmbd[i][j]=finalEmbd[i][j]*(-1)\n",
        "outputs=classifier.predict(finalEmbd)\n",
        "ans=0\n",
        "for i in range (1,count):\n",
        "  if(outputs[i]>outputs[ans]):\n",
        "    ans=i"
      ],
      "execution_count": 11,
      "outputs": []
    },
    {
      "cell_type": "code",
      "metadata": {
        "id": "1kvZD75hqRVE",
        "colab": {
          "base_uri": "https://localhost:8080/"
        },
        "outputId": "06a4be6b-f5c4-4940-efc6-6f6c7ef76497"
      },
      "source": [
        "#@title\n",
        "if(outputs[ans]<0.5):\n",
        "  print(\"none\")\n",
        "else:\n",
        "  print(labels[ans])"
      ],
      "execution_count": 12,
      "outputs": [
        {
          "output_type": "stream",
          "name": "stdout",
          "text": [
            "ashish\n"
          ]
        }
      ]
    }
  ]
}