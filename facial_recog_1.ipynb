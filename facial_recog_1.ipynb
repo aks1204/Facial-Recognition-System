{
  "nbformat": 4,
  "nbformat_minor": 0,
  "metadata": {
    "colab": {
      "name": "facial-recog-1.ipynb",
      "provenance": [],
      "collapsed_sections": [],
      "toc_visible": true
    },
    "kernelspec": {
      "name": "python3",
      "display_name": "Python 3"
    },
    "language_info": {
      "name": "python"
    },
    "accelerator": "TPU"
  },
  "cells": [
    {
      "cell_type": "markdown",
      "metadata": {
        "id": "-a52E2wivrBA"
      },
      "source": [
        "**Face Verification**"
      ]
    },
    {
      "cell_type": "code",
      "metadata": {
        "id": "PB4XXDxE0-Z2"
      },
      "source": [
        "import pandas as pd\n",
        "import numpy as np\n",
        "import tensorflow as tf"
      ],
      "execution_count": null,
      "outputs": []
    },
    {
      "cell_type": "code",
      "metadata": {
        "id": "hYezmk9HfMHC"
      },
      "source": [
        "from google.colab import drive\n",
        "drive.mount('/content/gdrive')"
      ],
      "execution_count": null,
      "outputs": []
    },
    {
      "cell_type": "code",
      "metadata": {
        "id": "Wux8-w9M4jOP"
      },
      "source": [
        "file1=open(\"gdrive/My Drive/facial_recog/pairs.txt\")"
      ],
      "execution_count": null,
      "outputs": []
    },
    {
      "cell_type": "code",
      "metadata": {
        "id": "4Ap-Sl5R5p4y"
      },
      "source": [
        "filepath1_1=[]\n",
        "filepath1_2=[]\n",
        "output1=[]"
      ],
      "execution_count": null,
      "outputs": []
    },
    {
      "cell_type": "code",
      "metadata": {
        "id": "fZetx-8c5snC"
      },
      "source": [
        "file1.readline()"
      ],
      "execution_count": null,
      "outputs": []
    },
    {
      "cell_type": "code",
      "metadata": {
        "id": "gWXo7X9T5x4F"
      },
      "source": [
        "for i in range (20):\n",
        "    for j in range (300):\n",
        "        if(i%2==0):\n",
        "            output1.append(1)\n",
        "            str_line=file1.readline()\n",
        "            int1=str_line.find(\"\\t\")\n",
        "            name=str_line[:int1]\n",
        "            string2=str_line[int1+1:]\n",
        "            int2=string2.find(\"\\t\")\n",
        "            num1=string2[:int2]\n",
        "            int3=string2.find(\"\\n\")\n",
        "            num2=string2[int2+1:int3]\n",
        "            len1=len(num1)\n",
        "            if(len1==1):\n",
        "                number1=\"000\"+num1\n",
        "            elif(len1==2):\n",
        "                number1=\"00\"+num1\n",
        "            elif (len1==3):\n",
        "                number1=\"0\"+num1\n",
        "            else:\n",
        "                number1=num1\n",
        "            len2=len(num2)\n",
        "            if(len2==1):\n",
        "                number2=\"000\"+num2\n",
        "            elif(len2==2):\n",
        "                number2=\"00\"+num2\n",
        "            elif (len2==3):\n",
        "                number2=\"0\"+num2\n",
        "            else:\n",
        "                number2=num2\n",
        "            path1=\"./\"+\"lfw/\"+name+\"/\"+name+\"_\"+number1+\".jpg\"\n",
        "            path2=\"./\"+\"lfw/\"+name+\"/\"+name+\"_\"+number2+\".jpg\"\n",
        "            filepath1_1.append(path1)\n",
        "            filepath1_2.append(path2)\n",
        "        else:\n",
        "            output1.append(0)\n",
        "            str_line=file1.readline()\n",
        "            int1=str_line.find(\"\\t\")\n",
        "            name1=str_line[:int1]\n",
        "            string1=str_line[int1+1:]\n",
        "            int2=string1.find(\"\\t\")\n",
        "            num1=string1[:int2]\n",
        "            string2=string1[int2+1:]\n",
        "            int3=string2.find(\"\\t\")\n",
        "            name2=string2[:int3]\n",
        "            int4=string2.find(\"\\n\")\n",
        "            num2=string2[int3+1:int4]\n",
        "            len1=len(num1)\n",
        "            if(len1==1):\n",
        "                number1=\"000\"+num1\n",
        "            elif(len1==2):\n",
        "                number1=\"00\"+num1\n",
        "            elif (len1==3):\n",
        "                number1=\"0\"+num1\n",
        "            else:\n",
        "                number1=num1\n",
        "            len2=len(num2)\n",
        "            if(len2==1):\n",
        "                number2=\"000\"+num2\n",
        "            elif(len2==2):\n",
        "                number2=\"00\"+num2\n",
        "            elif (len2==3):\n",
        "                number2=\"0\"+num2\n",
        "            else:\n",
        "                number2=num2\n",
        "            path1=\"./\"+\"lfw/\"+name1+\"/\"+name1+\"_\"+number1+\".jpg\"\n",
        "            path2=\"./\"+\"lfw/\"+name2+\"/\"+name2+\"_\"+number2+\".jpg\"\n",
        "            filepath1_1.append(path1)\n",
        "            filepath1_2.append(path2)"
      ],
      "execution_count": null,
      "outputs": []
    },
    {
      "cell_type": "code",
      "metadata": {
        "id": "uuGgT0dN6CoM"
      },
      "source": [
        "dict1={\"Path1\" : filepath1_1,\n",
        "      \"Path2\" : filepath1_2,\n",
        "      \"Outputs\" : output1}"
      ],
      "execution_count": null,
      "outputs": []
    },
    {
      "cell_type": "code",
      "metadata": {
        "id": "D_XH-ull6Ju2"
      },
      "source": [
        "Table1=pd.DataFrame(dict1)"
      ],
      "execution_count": null,
      "outputs": []
    },
    {
      "cell_type": "code",
      "metadata": {
        "id": "ylOmntQs36hQ"
      },
      "source": [
        "!unzip gdrive/My\\ Drive/facial_recog/lfw.zip"
      ],
      "execution_count": null,
      "outputs": []
    },
    {
      "cell_type": "code",
      "metadata": {
        "id": "Xn0BHan14j7z"
      },
      "source": [
        "from keras.models import load_model\n",
        "model = load_model('gdrive/My Drive/facial_recog/facenet_keras.h5')\n",
        "print(model.inputs)\n",
        "print(model.outputs)"
      ],
      "execution_count": null,
      "outputs": []
    },
    {
      "cell_type": "code",
      "metadata": {
        "id": "g-rl9ztgdjXY"
      },
      "source": [
        "Train1_im1=[]\n",
        "Train1_im2=[]"
      ],
      "execution_count": null,
      "outputs": []
    },
    {
      "cell_type": "code",
      "metadata": {
        "id": "FA2WdcFeipin"
      },
      "source": [
        "!pip install mtcnn"
      ],
      "execution_count": null,
      "outputs": []
    },
    {
      "cell_type": "code",
      "metadata": {
        "id": "JvBSxMVYk6dO"
      },
      "source": [
        "import mtcnn"
      ],
      "execution_count": null,
      "outputs": []
    },
    {
      "cell_type": "code",
      "metadata": {
        "id": "IrKrglujlyUr"
      },
      "source": [
        "from PIL import Image\n",
        "from numpy import asarray\n",
        "from mtcnn.mtcnn import MTCNN"
      ],
      "execution_count": null,
      "outputs": []
    },
    {
      "cell_type": "code",
      "metadata": {
        "id": "vazaXgMw7BU6"
      },
      "source": [
        "def extract_face(filename, required_size=(160, 160)):\n",
        "\timage = Image.open(filename)\n",
        "\timage = image.convert('RGB')\n",
        "\tpixels = asarray(image)\n",
        "\tdetector = MTCNN()\n",
        "\tresults = detector.detect_faces(pixels)\n",
        "\tx1, y1, width, height = results[0]['box']\n",
        "\tx1, y1 = abs(x1), abs(y1)\n",
        "\tx2, y2 = x1 + width, y1 + height\n",
        "\tface = pixels[y1:y2, x1:x2]\n",
        "\timage = Image.fromarray(face)\n",
        "\timage = image.resize(required_size)\n",
        "\tface_array = asarray(image)\n",
        "\treturn face_array"
      ],
      "execution_count": null,
      "outputs": []
    },
    {
      "cell_type": "code",
      "metadata": {
        "id": "nOuWWPszvQJV"
      },
      "source": [
        "TrainY=[]"
      ],
      "execution_count": null,
      "outputs": []
    },
    {
      "cell_type": "code",
      "metadata": {
        "id": "mVtoNZhJmZwr"
      },
      "source": [
        "for i in range(3600): \n",
        "  Train1_im1.append(Table1[\"Path1\"][i])\n",
        "  Train1_im2.append(Table1[\"Path2\"][i])\n",
        "  TrainY.append(Table1[\"Outputs\"][i])"
      ],
      "execution_count": null,
      "outputs": []
    },
    {
      "cell_type": "code",
      "metadata": {
        "id": "QEmwlyIHLwDM"
      },
      "source": [
        "TrainY=np.array(TrainY)"
      ],
      "execution_count": null,
      "outputs": []
    },
    {
      "cell_type": "code",
      "metadata": {
        "id": "u-S6l4-TK-ha"
      },
      "source": [
        "Train1_im1=np.array(Train1_im1)\n",
        "Train1_im2=np.array(Train1_im2)"
      ],
      "execution_count": null,
      "outputs": []
    },
    {
      "cell_type": "code",
      "metadata": {
        "id": "KqunGPVBNG5J"
      },
      "source": [
        "TrainX_1=[]\n",
        "for i in range(3600):\n",
        "  TrainX_1.append(extract_face(Train1_im1[i]))\n",
        "from google.colab import output\n",
        "output.eval_js('new Audio(\"https://upload.wikimedia.org/wikipedia/commons/0/05/Beep-09.ogg\").play()')"
      ],
      "execution_count": null,
      "outputs": []
    },
    {
      "cell_type": "code",
      "metadata": {
        "id": "pZjS1gndVMWJ"
      },
      "source": [
        "TrainX_2=[]\n",
        "for i in range(3600):\n",
        "  TrainX_2.append(extract_face(Train1_im2[i]))\n",
        "output.eval_js('new Audio(\"https://upload.wikimedia.org/wikipedia/commons/0/05/Beep-09.ogg\").play()')"
      ],
      "execution_count": null,
      "outputs": []
    },
    {
      "cell_type": "code",
      "metadata": {
        "id": "KZUbvluTVaox"
      },
      "source": [
        "TrainX_1=np.array(TrainX_1)\n",
        "TrainX_2=np.array(TrainX_2)"
      ],
      "execution_count": null,
      "outputs": []
    },
    {
      "cell_type": "code",
      "metadata": {
        "id": "xemg31WoV_po"
      },
      "source": [
        "def normalize(trainX):\n",
        "  trainX=trainX.astype('float32')\n",
        "  for i in range (trainX.shape[0]):\n",
        "    mean=trainX[i].mean()\n",
        "    std=trainX[i].std()\n",
        "    trainX[i]=(trainX[i]-mean)/std\n",
        "  return trainX"
      ],
      "execution_count": null,
      "outputs": []
    },
    {
      "cell_type": "code",
      "metadata": {
        "id": "LoSB6eLUkoe8"
      },
      "source": [
        "TrainX_1=normalize(TrainX_1)\n",
        "TrainX_2=normalize(TrainX_2)"
      ],
      "execution_count": null,
      "outputs": []
    },
    {
      "cell_type": "code",
      "metadata": {
        "id": "jI-G7Qq-VxON"
      },
      "source": [
        "TrainX=np.array([TrainX_1, TrainX_2])"
      ],
      "execution_count": null,
      "outputs": []
    },
    {
      "cell_type": "code",
      "metadata": {
        "id": "gh-2Dj1zle4a"
      },
      "source": [
        "def getEmbd(trainX):\n",
        "  embd=model.predict(trainX)\n",
        "  return embd"
      ],
      "execution_count": null,
      "outputs": []
    },
    {
      "cell_type": "code",
      "metadata": {
        "id": "aVRQxsbEnVtI"
      },
      "source": [
        "TrainEmbd1=getEmbd(TrainX[0])"
      ],
      "execution_count": null,
      "outputs": []
    },
    {
      "cell_type": "code",
      "metadata": {
        "id": "lR4KdnevndrD"
      },
      "source": [
        "TrainEmbd2=getEmbd(TrainX[1])"
      ],
      "execution_count": null,
      "outputs": []
    },
    {
      "cell_type": "markdown",
      "metadata": {
        "id": "Pkpjk5RsqZfB"
      },
      "source": [
        "TrainEmbd1, TrainEmbd2, TrainY"
      ]
    },
    {
      "cell_type": "code",
      "metadata": {
        "id": "OlDhzxGenpaG"
      },
      "source": [
        "Class1_im1=[]\n",
        "Class1_im2=[]\n",
        "ClassY=[]\n",
        "for i in range(3600,4800): \n",
        "  Class1_im1.append(Table1[\"Path1\"][i])\n",
        "  Class1_im2.append(Table1[\"Path2\"][i])\n",
        "  ClassY.append(Table1[\"Outputs\"][i])\n",
        "ClassY=np.array(ClassY)\n",
        "Class1_im1=np.array(Class1_im1)\n",
        "Class1_im2=np.array(Class1_im2)\n",
        "ClassX_1=[]\n",
        "for i in range(1200):\n",
        "  ClassX_1.append(extract_face(Class1_im1[i]))\n",
        "output.eval_js('new Audio(\"https://upload.wikimedia.org/wikipedia/commons/0/05/Beep-09.ogg\").play()')\n",
        "ClassX_2=[]\n",
        "for i in range(1200):\n",
        "  ClassX_2.append(extract_face(Class1_im2[i]))\n",
        "output.eval_js('new Audio(\"https://upload.wikimedia.org/wikipedia/commons/0/05/Beep-09.ogg\").play()')\n",
        "ClassX_1=np.array(ClassX_1)\n",
        "ClassX_2=np.array(ClassX_2)"
      ],
      "execution_count": null,
      "outputs": []
    },
    {
      "cell_type": "code",
      "metadata": {
        "id": "TRAV668FuyE9"
      },
      "source": [
        "ClassX_1=normalize(ClassX_1)\n",
        "ClassX_2=normalize(ClassX_2)\n",
        "ClassX=np.array([ClassX_1, ClassX_2])\n",
        "ClassEmbd1=getEmbd(ClassX[0])\n",
        "ClassEmbd2=getEmbd(ClassX[1])"
      ],
      "execution_count": null,
      "outputs": []
    },
    {
      "cell_type": "markdown",
      "metadata": {
        "id": "zD6J2S3mxtGR"
      },
      "source": [
        "ClassEmbd1, ClassEmbd2, ClassY"
      ]
    },
    {
      "cell_type": "markdown",
      "metadata": {
        "id": "kGksAOlY4Gvl"
      },
      "source": [
        "\n",
        "\n",
        "```\n",
        "# This is formatted as code\n",
        "Test1_im1=[]\n",
        "Test1_im2=[]\n",
        "TestY=[]\n",
        "for i in range(4800,6000): \n",
        "  Test1_im1.append(Table1[\"Path1\"][i])\n",
        "  Test1_im2.append(Table1[\"Path2\"][i])\n",
        "  TestY.append(Table1[\"Outputs\"][i])\n",
        "TestY=np.array(TestY)\n",
        "Test1_im1=np.array(Test1_im1)\n",
        "Test1_im2=np.array(Test1_im2)\n",
        "TestX_1=[]\n",
        "for i in range(1200):\n",
        "  TestX_1.append(extract_face(Test1_im1[i]))\n",
        "output.eval_js('new Audio(\"https://upload.wikimedia.org/wikipedia/commons/0/05/Beep-09.ogg\").play()')\n",
        "TestX_2=[]\n",
        "for i in range(1200):\n",
        "  TestX_2.append(extract_face(Test1_im2[i]))\n",
        "output.eval_js('new Audio(\"https://upload.wikimedia.org/wikipedia/commons/0/05/Beep-09.ogg\").play()')\n",
        "TestX_1=np.array(TestX_1)\n",
        "TestX_2=np.array(TestX_2)\n",
        "TestX_1=normalize(TestX_1)\n",
        "TestX_2=normalize(TestX_2)\n",
        "TestX=np.array([TestX_1, TestX_2])\n",
        "TestEmbd1=getEmbd(TestX[0])\n",
        "TestEmbd2=getEmbd(TestX[1])\n",
        "```\n",
        "\n"
      ]
    },
    {
      "cell_type": "markdown",
      "metadata": {
        "id": "F1eQ2KObx_6E"
      },
      "source": [
        "TestEmbd1, TestEmbd2, TestY"
      ]
    },
    {
      "cell_type": "code",
      "metadata": {
        "id": "YKX9Z3jTzKx0"
      },
      "source": [
        "output.eval_js('new Audio(\"https://upload.wikimedia.org/wikipedia/commons/0/05/Beep-09.ogg\").play()')"
      ],
      "execution_count": null,
      "outputs": []
    },
    {
      "cell_type": "markdown",
      "metadata": {
        "id": "HUX9kFx9Yy6u"
      },
      "source": [
        "Logistic Classifier"
      ]
    },
    {
      "cell_type": "code",
      "metadata": {
        "id": "fGhbUws1yfz1"
      },
      "source": [
        "TrainEmbd=TrainEmbd1-TrainEmbd2"
      ],
      "execution_count": null,
      "outputs": []
    },
    {
      "cell_type": "code",
      "metadata": {
        "id": "mBinBTyJgGJq"
      },
      "source": [
        "for i in range(3600):\n",
        "  for j in range(128):\n",
        "    if (TrainEmbd[i][j]<0):TrainEmbd[i][j]=TrainEmbd[i][j]*(-1)"
      ],
      "execution_count": null,
      "outputs": []
    },
    {
      "cell_type": "code",
      "metadata": {
        "id": "zZuK9Ypxi8OV"
      },
      "source": [
        "ClassEmbd=ClassEmbd1-ClassEmbd2\n",
        "for i in range(1200):\n",
        "  for j in range(128):\n",
        "    if (ClassEmbd[i][j]<0):\n",
        "      ClassEmbd[i][j]=ClassEmbd[i][j]*(-1)"
      ],
      "execution_count": null,
      "outputs": []
    },
    {
      "cell_type": "markdown",
      "metadata": {
        "id": "EjpXw3fN4V9i"
      },
      "source": [
        "\n",
        "\n",
        "```\n",
        "# This is formatted as code\n",
        "TestEmbd=TestEmbd1-TestEmbd2\n",
        "for i in range(1200):\n",
        "  for j in range(128):\n",
        "    if (TestEmbd[i][j]<0):\n",
        "      TestEmbd[i][j]=TestEmbd[i][j]*(-1)\n",
        "```\n",
        "\n",
        "\n"
      ]
    },
    {
      "cell_type": "code",
      "metadata": {
        "id": "94A31aoijgpL"
      },
      "source": [
        "from tensorflow import keras"
      ],
      "execution_count": null,
      "outputs": []
    },
    {
      "cell_type": "code",
      "metadata": {
        "id": "4l-juwub0Axk"
      },
      "source": [
        "from keras.models import Sequential\n",
        "from keras.layers import Dense, Activation"
      ],
      "execution_count": null,
      "outputs": []
    },
    {
      "cell_type": "code",
      "metadata": {
        "id": "7OLDdMWymiZZ"
      },
      "source": [
        "#@title\n",
        "classifier=Sequential([Dense(1,input_shape=(128,),activation='sigmoid')])\n",
        "classifier.compile(optimizer='Adam', loss='binary_crossentropy', metrics=['binary_accuracy'])"
      ],
      "execution_count": null,
      "outputs": []
    },
    {
      "cell_type": "code",
      "metadata": {
        "id": "dwTZ3MIepN4L"
      },
      "source": [
        "classifier.fit(x=TrainEmbd, y=TrainY, shuffle=True, epochs=1000, batch_size=600)"
      ],
      "execution_count": null,
      "outputs": []
    },
    {
      "cell_type": "code",
      "metadata": {
        "id": "NVAYjbc1r4HG"
      },
      "source": [
        "eval=classifier.evaluate(x=ClassEmbd, y=ClassY)"
      ],
      "execution_count": null,
      "outputs": []
    },
    {
      "cell_type": "code",
      "metadata": {
        "id": "zzPKK7b1slXb"
      },
      "source": [
        "eval"
      ],
      "execution_count": null,
      "outputs": []
    },
    {
      "cell_type": "code",
      "metadata": {
        "id": "gt2nM7_osne0"
      },
      "source": [
        "classifier.save('gdrive/My Drive/facial_recog/logisticClassifier.h5')"
      ],
      "execution_count": null,
      "outputs": []
    },
    {
      "cell_type": "code",
      "metadata": {
        "id": "vgZaSobfuCcJ"
      },
      "source": [
        "output.eval_js('new Audio(\"https://upload.wikimedia.org/wikipedia/commons/0/05/Beep-09.ogg\").play()')"
      ],
      "execution_count": null,
      "outputs": []
    },
    {
      "cell_type": "markdown",
      "metadata": {
        "id": "ZNlUimHmveT6"
      },
      "source": [
        "**Face Recognition**\n",
        "\n",
        "\n",
        "1.   Store embeddings of images in the system(save those embeddings)\n",
        "2.   Code for comparing images taken at runtime(API)\n",
        "\n",
        "1.   Live Detector\n",
        "2.   Capture image at run time\n",
        "\n",
        "1.   Run that image through our model\n",
        "2.   Output identity\n",
        "\n",
        "\n",
        "\n",
        "\n",
        "\n",
        "\n",
        "\n"
      ]
    }
  ]
}